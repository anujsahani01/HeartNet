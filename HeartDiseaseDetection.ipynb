{
  "nbformat": 4,
  "nbformat_minor": 0,
  "metadata": {
    "colab": {
      "provenance": []
    },
    "kernelspec": {
      "name": "python3",
      "display_name": "Python 3"
    },
    "language_info": {
      "name": "python"
    },
    "accelerator": "GPU",
    "gpuClass": "standard"
  },
  "cells": [
    {
      "cell_type": "code",
      "execution_count": 1,
      "metadata": {
        "colab": {
          "base_uri": "https://localhost:8080/"
        },
        "id": "5Hs0hgB1ShCS",
        "outputId": "9bb8fd16-07f6-41ad-f05f-25d0c87e59d7"
      },
      "outputs": [
        {
          "output_type": "stream",
          "name": "stdout",
          "text": [
            "Looking in indexes: https://pypi.org/simple, https://us-python.pkg.dev/colab-wheels/public/simple/\n",
            "Requirement already satisfied: kaggle in /usr/local/lib/python3.8/dist-packages (1.5.12)\n",
            "Requirement already satisfied: requests in /usr/local/lib/python3.8/dist-packages (from kaggle) (2.23.0)\n",
            "Requirement already satisfied: urllib3 in /usr/local/lib/python3.8/dist-packages (from kaggle) (1.24.3)\n",
            "Requirement already satisfied: six>=1.10 in /usr/local/lib/python3.8/dist-packages (from kaggle) (1.15.0)\n",
            "Requirement already satisfied: python-dateutil in /usr/local/lib/python3.8/dist-packages (from kaggle) (2.8.2)\n",
            "Requirement already satisfied: tqdm in /usr/local/lib/python3.8/dist-packages (from kaggle) (4.64.1)\n",
            "Requirement already satisfied: python-slugify in /usr/local/lib/python3.8/dist-packages (from kaggle) (7.0.0)\n",
            "Requirement already satisfied: certifi in /usr/local/lib/python3.8/dist-packages (from kaggle) (2022.12.7)\n",
            "Requirement already satisfied: text-unidecode>=1.3 in /usr/local/lib/python3.8/dist-packages (from python-slugify->kaggle) (1.3)\n",
            "Requirement already satisfied: idna<3,>=2.5 in /usr/local/lib/python3.8/dist-packages (from requests->kaggle) (2.10)\n",
            "Requirement already satisfied: chardet<4,>=3.0.2 in /usr/local/lib/python3.8/dist-packages (from requests->kaggle) (3.0.4)\n"
          ]
        }
      ],
      "source": [
        "!pip install kaggle"
      ]
    },
    {
      "cell_type": "code",
      "source": [
        "!mkdir ~/.kaggle"
      ],
      "metadata": {
        "id": "RZsHvNQUYC7i"
      },
      "execution_count": 2,
      "outputs": []
    },
    {
      "cell_type": "code",
      "source": [
        "! chmod 600 ~/.kaggle/kaggle.json"
      ],
      "metadata": {
        "colab": {
          "base_uri": "https://localhost:8080/"
        },
        "id": "_03RdWw7YGLh",
        "outputId": "b1370d99-344a-4fdb-ce90-cba975b909b2"
      },
      "execution_count": 3,
      "outputs": [
        {
          "output_type": "stream",
          "name": "stdout",
          "text": [
            "chmod: cannot access '/root/.kaggle/kaggle.json': No such file or directory\n"
          ]
        }
      ]
    },
    {
      "cell_type": "code",
      "source": [
        "! cp kaggle.json ~/.kaggle/"
      ],
      "metadata": {
        "id": "AXraxxy5YH5i"
      },
      "execution_count": 4,
      "outputs": []
    },
    {
      "cell_type": "code",
      "source": [
        "!kaggle datasets download -d shayanfazeli/heartbeat"
      ],
      "metadata": {
        "colab": {
          "base_uri": "https://localhost:8080/"
        },
        "id": "9XrmBExhYLaZ",
        "outputId": "6c7037a7-d35b-4821-94ad-a1bb89710a5b"
      },
      "execution_count": 5,
      "outputs": [
        {
          "output_type": "stream",
          "name": "stdout",
          "text": [
            "Warning: Your Kaggle API key is readable by other users on this system! To fix this, you can run 'chmod 600 /root/.kaggle/kaggle.json'\n",
            "Downloading heartbeat.zip to /content\n",
            " 83% 82.0M/98.8M [00:00<00:00, 140MB/s]\n",
            "100% 98.8M/98.8M [00:00<00:00, 152MB/s]\n"
          ]
        }
      ]
    },
    {
      "cell_type": "code",
      "source": [
        "!unzip heartbeat.zip"
      ],
      "metadata": {
        "colab": {
          "base_uri": "https://localhost:8080/"
        },
        "id": "AvIrxQadYNqg",
        "outputId": "39536f84-c25b-4793-a47f-b33a2131780d"
      },
      "execution_count": 6,
      "outputs": [
        {
          "output_type": "stream",
          "name": "stdout",
          "text": [
            "Archive:  heartbeat.zip\n",
            "  inflating: mitbih_test.csv         \n",
            "  inflating: mitbih_train.csv        \n",
            "  inflating: ptbdb_abnormal.csv      \n",
            "  inflating: ptbdb_normal.csv        \n"
          ]
        }
      ]
    },
    {
      "cell_type": "code",
      "source": [
        "import numpy as np \n",
        "import pandas as pd \n",
        "import os, tqdm, re, time, itertools, sys\n",
        "import seaborn as sns\n",
        "from sklearn.model_selection import train_test_split\n",
        "data_train = pd.read_csv('./mitbih_train.csv', header=None)\n",
        "data_test = pd.read_csv('./mitbih_test.csv', header=None)\n",
        "abnormal = pd.read_csv('./ptbdb_abnormal.csv', header=None)\n",
        "normal = pd.read_csv('./ptbdb_normal.csv', header=None)"
      ],
      "metadata": {
        "id": "rfCaosRkYquS"
      },
      "execution_count": 7,
      "outputs": []
    },
    {
      "cell_type": "code",
      "source": [
        "normal = normal.drop([187], axis=1)\n",
        "abnormal = abnormal.drop([187], axis=1)"
      ],
      "metadata": {
        "id": "aycvamd5ZSnZ"
      },
      "execution_count": 8,
      "outputs": []
    },
    {
      "cell_type": "code",
      "source": [
        "import matplotlib.pyplot as plt\n",
        "#Abnormal ECG\n",
        "plt.figure(figsize=(15, 3))\n",
        "plt.subplot(1, 5, 1)\n",
        "plt.plot(abnormal.values[0][5:50])\n",
        "plt.subplot(1, 5, 2)\n",
        "plt.plot(abnormal.values[10][5:50])\n",
        "plt.subplot(1, 5, 3)\n",
        "plt.plot(abnormal.values[20][5:50])\n",
        "plt.subplot(1, 5, 4)\n",
        "plt.plot(abnormal.values[40][5:50])\n",
        "plt.subplot(1, 5, 5)\n",
        "plt.plot(abnormal.values[44][5:50])"
      ],
      "metadata": {
        "colab": {
          "base_uri": "https://localhost:8080/",
          "height": 229
        },
        "id": "-faIV89vbsjk",
        "outputId": "74f764ed-947f-4ba7-e360-62065a6b1c3a"
      },
      "execution_count": 9,
      "outputs": [
        {
          "output_type": "execute_result",
          "data": {
            "text/plain": [
              "[<matplotlib.lines.Line2D at 0x7f190a65a100>]"
            ]
          },
          "metadata": {},
          "execution_count": 9
        },
        {
          "output_type": "display_data",
          "data": {
            "text/plain": [
              "<Figure size 1080x216 with 5 Axes>"
            ],
            "image/png": "[encoded data removed]"
          },
          "metadata": {
            "needs_background": "light"
          }
        }
      ]
    },
    {
      "cell_type": "code",
      "source": [
        "#Normal ECG\n",
        "plt.figure(figsize=(15, 3))\n",
        "plt.subplot(1, 5, 1)\n",
        "plt.plot(normal.values[0][5:50])\n",
        "plt.subplot(1, 5, 2)\n",
        "plt.plot(normal.values[10][5:50])\n",
        "plt.subplot(1, 5, 3)\n",
        "plt.plot(normal.values[20][5:50])\n",
        "plt.subplot(1, 5, 4)\n",
        "plt.plot(normal.values[40][5:50])\n",
        "plt.subplot(1, 5, 5)\n",
        "plt.plot(normal.values[77][5:50])"
      ],
      "metadata": {
        "colab": {
          "base_uri": "https://localhost:8080/",
          "height": 229
        },
        "id": "hOoieEIzrUNq",
        "outputId": "83f5e54a-950c-4213-b4ad-ea96060760e9"
      },
      "execution_count": 10,
      "outputs": [
        {
          "output_type": "execute_result",
          "data": {
            "text/plain": [
              "[<matplotlib.lines.Line2D at 0x7f190a0394f0>]"
            ]
          },
          "metadata": {},
          "execution_count": 10
        },
        {
          "output_type": "display_data",
          "data": {
            "text/plain": [
              "<Figure size 1080x216 with 5 Axes>"
            ],
            "image/png": "[encoded data removed]"
          },
          "metadata": {
            "needs_background": "light"
          }
        }
      ]
    },
    {
      "cell_type": "code",
      "source": [
        "data_1 = data_train[data_train[187] == 1]\n",
        "data_2 = data_train[data_train[187] == 2]\n",
        "data_3 = data_train[data_train[187] == 3]\n",
        "data_4 = data_train[data_train[187] == 4]\n"
      ],
      "metadata": {
        "id": "-jsuLrv5rmym"
      },
      "execution_count": 11,
      "outputs": []
    },
    {
      "cell_type": "code",
      "source": [
        "y_abnormal = np.ones(abnormal.shape[0])\n",
        "y_abnormal = pd.DataFrame(y_abnormal)\n",
        "\n",
        "y_normal = np.zeros(normal.shape[0])\n",
        "y_normal = pd.DataFrame(y_normal)\n",
        "\n",
        "X = pd.concat([abnormal, normal], sort=True)\n",
        "y = pd.concat([y_abnormal, y_normal], sort=True)"
      ],
      "metadata": {
        "id": "sjRmrRfIw2Fh"
      },
      "execution_count": 12,
      "outputs": []
    },
    {
      "cell_type": "code",
      "source": [
        "print(X.shape)\n",
        "print(y.shape)"
      ],
      "metadata": {
        "colab": {
          "base_uri": "https://localhost:8080/"
        },
        "id": "CjjfwRQZxN_O",
        "outputId": "edbed8c6-2170-4498-ecc4-6acb5ec87b7a"
      },
      "execution_count": 13,
      "outputs": [
        {
          "output_type": "stream",
          "name": "stdout",
          "text": [
            "(14552, 187)\n",
            "(14552, 1)\n"
          ]
        }
      ]
    },
    {
      "cell_type": "code",
      "source": [
        "#data augumentation using resampling because the classes are not distributed equally(biasness)\n",
        "from sklearn.utils import resample\n",
        "data_1_resample = resample(data_1, n_samples=20000, \n",
        "                           random_state=123, replace=True)\n",
        "data_2_resample = resample(data_2, n_samples=20000, \n",
        "                           random_state=123, replace=True)\n",
        "data_3_resample = resample(data_3, n_samples=20000, \n",
        "                           random_state=123, replace=True)\n",
        "data_4_resample = resample(data_4, n_samples=20000, \n",
        "                           random_state=123, replace=True)\n",
        "data_0 = data_train[data_train[187] == 0].sample(n=20000, random_state=123)"
      ],
      "metadata": {
        "id": "vlJKMELyxtOl"
      },
      "execution_count": 14,
      "outputs": []
    },
    {
      "cell_type": "code",
      "source": [
        "train_dataset = pd.concat([data_0, data_1_resample, data_2_resample, data_3_resample, \n",
        "                          data_4_resample])"
      ],
      "metadata": {
        "id": "5yNtmH0h1JcH"
      },
      "execution_count": 15,
      "outputs": []
    },
    {
      "cell_type": "code",
      "source": [
        "target_train = train_dataset[187]\n",
        "target_test = data_test[187]\n",
        "target_train.unique()"
      ],
      "metadata": {
        "colab": {
          "base_uri": "https://localhost:8080/"
        },
        "id": "vzHJMCfO1Nm1",
        "outputId": "75f86053-c878-46df-f0fd-492762896007"
      },
      "execution_count": 16,
      "outputs": [
        {
          "output_type": "execute_result",
          "data": {
            "text/plain": [
              "array([0., 1., 2., 3., 4.])"
            ]
          },
          "metadata": {},
          "execution_count": 16
        }
      ]
    },
    {
      "cell_type": "code",
      "source": [
        "from tensorflow.keras.utils import to_categorical\n",
        "y_train = to_categorical(target_train)\n",
        "y_test = to_categorical(target_test)"
      ],
      "metadata": {
        "id": "Km58peEr1cCn"
      },
      "execution_count": 17,
      "outputs": []
    },
    {
      "cell_type": "code",
      "source": [
        "X_train = train_dataset.iloc[:, :-1].values\n",
        "X_test = data_test.iloc[:, :-1].values"
      ],
      "metadata": {
        "id": "k4iqEQ9Q1vem"
      },
      "execution_count": 18,
      "outputs": []
    },
    {
      "cell_type": "code",
      "source": [
        "print(X_train.shape)\n",
        "print(X_test.shape)\n",
        "print(y_train.shape)\n",
        "print(y_test.shape)"
      ],
      "metadata": {
        "colab": {
          "base_uri": "https://localhost:8080/"
        },
        "id": "JPiODcxF11TN",
        "outputId": "60eddba6-d5cf-4561-e01d-2eb15a506556"
      },
      "execution_count": 19,
      "outputs": [
        {
          "output_type": "stream",
          "name": "stdout",
          "text": [
            "(100000, 187)\n",
            "(21892, 187)\n",
            "(100000, 5)\n",
            "(21892, 5)\n"
          ]
        }
      ]
    },
    {
      "cell_type": "code",
      "source": [
        "#reshaping data to apply cnn\n",
        "X_train = X_train.reshape(len(X_train), X_train.shape[1], 1)\n",
        "X_test = X_test.reshape(len(X_test), X_test.shape[1], 1)\n",
        "X_train.shape, X_test.shape"
      ],
      "metadata": {
        "colab": {
          "base_uri": "https://localhost:8080/"
        },
        "id": "Mmd-Dly416jd",
        "outputId": "1ccf3844-05ef-4046-c3d5-8c9820f14dd3"
      },
      "execution_count": 20,
      "outputs": [
        {
          "output_type": "execute_result",
          "data": {
            "text/plain": [
              "((100000, 187, 1), (21892, 187, 1))"
            ]
          },
          "metadata": {},
          "execution_count": 20
        }
      ]
    },
    {
      "cell_type": "code",
      "source": [
        "import tensorflow.keras\n",
        "from tensorflow.keras.models import Sequential\n",
        "from tensorflow.keras.layers import Dense, Activation, Dropout, Flatten,\\\n",
        "Conv1D, MaxPooling1D,BatchNormalization,ConvLSTM1D\n",
        "import tensorflow as tf\n",
        "from tensorflow.keras.layers import Input, DepthwiseConv1D\n",
        "from tensorflow.keras.layers import Conv1D, BatchNormalization, LSTM\n",
        "from tensorflow.keras.layers import ReLU, AvgPool1D, Flatten, Dense\n",
        "from tensorflow.keras import Model"
      ],
      "metadata": {
        "id": "L5tKTHYK2_8v"
      },
      "execution_count": 21,
      "outputs": []
    },
    {
      "cell_type": "code",
      "source": [
        "i_shape = X_train.shape\n",
        "print(i_shape)"
      ],
      "metadata": {
        "colab": {
          "base_uri": "https://localhost:8080/"
        },
        "id": "Q3o0E1LfSg7B",
        "outputId": "4b24f909-643d-4f8b-b470-96cac51a885c"
      },
      "execution_count": 22,
      "outputs": [
        {
          "output_type": "stream",
          "name": "stdout",
          "text": [
            "(100000, 187, 1)\n"
          ]
        }
      ]
    },
    {
      "cell_type": "code",
      "source": [
        "image_width = 187\n",
        "image_height = 1"
      ],
      "metadata": {
        "id": "W872CRK1WdVf"
      },
      "execution_count": 23,
      "outputs": []
    },
    {
      "cell_type": "code",
      "source": [
        "input = tf.keras.layers.Input((image_width, image_height))\n",
        "# encoder \n",
        "# 1\n",
        "# kernel initializer provides us with initial weights\n",
        "c1 = Conv1D(filters=96, input_shape=i_shape, kernel_size=11, strides=4, padding='valid',  activation = 'relu', kernel_initializer = 'he_normal')(input)\n",
        "d1 = tf.keras.layers.Dropout(0.2)(c1)\n",
        "m1 = MaxPooling1D(pool_size=2, strides=2, padding='valid')(d1)\n",
        "b1 = BatchNormalization()(m1)\n",
        "\n",
        "# 2\n",
        "c2 = Conv1D(filters=256, kernel_size=11, strides=1, padding='valid', activation = 'relu', kernel_initializer = 'he_normal')(b1)\n",
        "d2 = tf.keras.layers.Dropout(0.2)(c2)\n",
        "m2 = MaxPooling1D(pool_size=1, strides=1, padding='valid')(d2)\n",
        "b2 = BatchNormalization()(m2)\n",
        "\n",
        "# 3\n",
        "c3 = Conv1D(filters=384, kernel_size=3, strides=1, padding='valid', activation = 'relu', kernel_initializer = 'he_normal')(b2)\n",
        "d3 = tf.keras.layers.Dropout(0.2)(c3)\n",
        "b3 = BatchNormalization()(d3)\n",
        "\n",
        "# 4\n",
        "c4 = Conv1D(filters=384, kernel_size=3, strides=2, padding='valid', activation = 'relu', kernel_initializer = 'he_normal')(b3)\n",
        "d4 = tf.keras.layers.Dropout(0.2)(c4)\n",
        "b4 = BatchNormalization()(d4)\n",
        "# 5 \n",
        "c5 = Conv1D(filters=256, kernel_size=3, strides=2, padding='valid', activation = 'relu', kernel_initializer = 'he_normal')(b4)\n",
        "d5 = tf.keras.layers.Dropout(0.1)(c5)\n",
        "m5 = MaxPooling1D(pool_size =1, strides=2, padding='valid')(d5)"
      ],
      "metadata": {
        "id": "1mEvAEhVVwmX"
      },
      "execution_count": 24,
      "outputs": []
    },
    {
      "cell_type": "code",
      "source": [
        "print(m5.shape)"
      ],
      "metadata": {
        "colab": {
          "base_uri": "https://localhost:8080/"
        },
        "id": "HMf8tfnT9ECP",
        "outputId": "2c83e667-692a-4483-a642-85a5a16a0fec"
      },
      "execution_count": 25,
      "outputs": [
        {
          "output_type": "stream",
          "name": "stdout",
          "text": [
            "(None, 1, 256)\n"
          ]
        }
      ]
    },
    {
      "cell_type": "code",
      "source": [
        "# decoders( UPSAMPLING LAYERS)\n",
        "\n",
        "# 1\n",
        "u5 = tf.keras.layers.Conv1DTranspose(384, kernel_size = 4 , strides = 2, padding = 'valid')(m5)\n",
        "u5 = tf.keras.layers.concatenate([u5, c4])\n",
        "c6 = tf.keras.layers.Conv1D(384, kernel_size = 3 ,strides = 2, activation = 'relu', kernel_initializer= 'he_normal', padding = 'valid')(u5)\n",
        "d6 = tf.keras.layers.Dropout(0.2)(c6)\n",
        "\n",
        "# 2\n",
        "u4 = tf.keras.layers.Conv1DTranspose(384, kernel_size = 10 , strides = 2, padding = 'valid')(c6)\n",
        "u4 = tf.keras.layers.concatenate([u4, c3])\n",
        "c7 = tf.keras.layers.Conv1D(384, kernel_size = 3 ,strides = 2, activation = 'relu', kernel_initializer= 'he_normal', padding = 'valid')(u4)\n",
        "d7 = tf.keras.layers.Dropout(0.2)(c7)\n",
        "\n",
        "# 3\n",
        "u3 = tf.keras.layers.Conv1DTranspose(256, kernel_size = 2 , strides = 3, padding = 'valid')(c7)\n",
        "u3 = tf.keras.layers.concatenate([u3, c2])\n",
        "c8 = tf.keras.layers.Conv1D(256, kernel_size = 3 ,strides = 2, activation = 'relu', kernel_initializer= 'he_normal', padding = 'valid')(u3)\n",
        "d8 = tf.keras.layers.Dropout(0.2)(c8)\n",
        "\n",
        "# 3\n",
        "u2 = tf.keras.layers.Conv1DTranspose(96, kernel_size = 17 , strides = 7, padding = 'valid')(c8)\n",
        "u2 = tf.keras.layers.concatenate([u2, c1])\n",
        "c9 = tf.keras.layers.Conv1D(96, kernel_size = 3 ,strides = 2, activation = 'relu', kernel_initializer= 'he_normal', padding = 'valid')(u2)\n",
        "m1 = tf.keras.layers.MaxPooling1D(pool_size = 1, strides = 2, padding = 'valid')(c9)\n",
        "d9 = tf.keras.layers.Dropout(0.2)(m1)\n",
        "\n",
        "# c10 = Conv1D(filters=384, kernel_size=3, strides=1,activation = 'relu', padding='valid')(d9)\n",
        "# m10 = MaxPooling1D(pool_size=1, strides=2, padding='valid')(c10)\n",
        "# b10 = BatchNormalization()(m10)\n",
        "# c11 = Conv1D(filters=256, activation= 'relu', kernel_size=2, padding='valid')(b10)\n",
        "# m11 = MaxPooling1D(pool_size=1, strides=1, padding='valid')(c11)\n",
        "\n",
        "# l1 = LSTM()(m11)\n",
        "\n",
        "# i_shape = d9.shape\n",
        "# our previous model\n",
        "C1 = Conv1D(filters=96, kernel_size=3,strides=4, activation = 'relu', padding='same')(d9)\n",
        "M1 = MaxPooling1D(pool_size=1, strides=2, padding='same')(C1)\n",
        "B1 = BatchNormalization()(M1)\n",
        "D1 = Dropout(0.2)(B1)\n",
        "C2 = Conv1D(filters=256, activation= 'relu', kernel_size=2, strides=1, padding='same')(D1)\n",
        "M2 = MaxPooling1D(pool_size=1, strides=1, padding='same')(C2)\n",
        "B2 = BatchNormalization()(M2)\n",
        "D2 = Dropout(0.2)(B2)\n",
        "C3 = Conv1D(filters=384, kernel_size=1,activation = 'relu', padding='same')(B2)\n",
        "B3 = BatchNormalization()(C3)\n",
        "D3 = Dropout(0.2)(B3)\n",
        "C4 = Conv1D(filters=384, kernel_size=3, strides=1,activation = 'relu', padding='same')(D3)\n",
        "B4 = BatchNormalization()(C4)\n",
        "D4 = Dropout(0.2)(B4)\n",
        "C5 = Conv1D(filters=256, kernel_size=3, strides=2,activation = 'relu', padding='same')(D4)\n",
        "M5 = MaxPooling1D(pool_size=1, strides=2, padding='same')(C5)\n",
        "B4 = BatchNormalization()(M5)\n",
        "D5 = Dropout(0.2)(B4)\n",
        "C6 = Conv1D(filters=256, kernel_size=3, strides=2,activation = 'relu', padding='same')(D5)\n",
        "M6 = MaxPooling1D(pool_size=1, strides=2, padding='same')(C6)\n",
        "L1 = LSTM(384, return_sequences = True)(M6)\n",
        "L2 = LSTM(256, return_sequences = True)(L1)\n",
        "L3 = LSTM(128)(L2)\n",
        "B6 = BatchNormalization()(L1)\n",
        "# Passing it to a dense layer\n",
        "f1 = Flatten()(l1)\n",
        "# 1st Dense Layer\n",
        "D1 = Dense(256)(f1)\n",
        "A1 = Activation('relu')(D1)\n",
        "# Add Dropout to prevent overfitting\n",
        "D_1 = Dropout(0.5)(A1)\n",
        "# Batch Normalisation\n",
        "B_1 = BatchNormalization()(D_1)\n",
        "\n",
        "# 2nd Dense Layer\n",
        "D2 = Dense(256)(B_1)\n",
        "A2 = Activation('relu')(D2)\n",
        "# Add Dropout\n",
        "D_2 = Dropout(0.5)(A2)\n",
        "# Batch Normalisation\n",
        "B_2 = BatchNormalization()(D_2)\n",
        "\n",
        "# 3rd Dense Layer\n",
        "D3 = Dense(128)(B_2)\n",
        "A3 = Activation('relu')(D3)\n",
        "# Add Dropout\n",
        "D_3 = Dropout(0.5)(A3)\n",
        "# Batch Normalisation\n",
        "B_3 = BatchNormalization()(D_3)\n",
        "\n",
        "# Output Layer\n",
        "output = Dense(5, activation = 'softmax')(B_3)\n",
        "# model\n",
        "model = tf.keras.Model(inputs = [input], outputs = [output])\n",
        "\n",
        "\n",
        "for layer in model.layers:\n",
        "    print(layer.output_shape)\n",
        "\n",
        "model.summary()"
      ],
      "metadata": {
        "id": "FENqAieOeWFJ",
        "colab": {
          "base_uri": "https://localhost:8080/"
        },
        "outputId": "322c2b71-25be-446b-fcb0-a152b059c61e"
      },
      "execution_count": 74,
      "outputs": [
        {
          "output_type": "stream",
          "name": "stdout",
          "text": [
            "[(None, 187, 1)]\n",
            "(None, 45, 96)\n",
            "(None, 45, 96)\n",
            "(None, 22, 96)\n",
            "(None, 22, 96)\n",
            "(None, 12, 256)\n",
            "(None, 12, 256)\n",
            "(None, 12, 256)\n",
            "(None, 12, 256)\n",
            "(None, 10, 384)\n",
            "(None, 10, 384)\n",
            "(None, 10, 384)\n",
            "(None, 4, 384)\n",
            "(None, 4, 384)\n",
            "(None, 4, 384)\n",
            "(None, 1, 256)\n",
            "(None, 1, 256)\n",
            "(None, 1, 256)\n",
            "(None, 4, 384)\n",
            "(None, 4, 768)\n",
            "(None, 1, 384)\n",
            "(None, 10, 384)\n",
            "(None, 10, 768)\n",
            "(None, 4, 384)\n",
            "(None, 12, 256)\n",
            "(None, 12, 512)\n",
            "(None, 5, 256)\n",
            "(None, 45, 96)\n",
            "(None, 45, 192)\n",
            "(None, 22, 96)\n",
            "(None, 11, 96)\n",
            "(None, 11, 96)\n",
            "(None, 9, 384)\n",
            "(None, 5, 384)\n",
            "(None, 5, 384)\n",
            "(None, 4, 256)\n",
            "(None, 4, 256)\n",
            "(None, 128)\n",
            "(None, 128)\n",
            "(None, 256)\n",
            "(None, 256)\n",
            "(None, 256)\n",
            "(None, 256)\n",
            "(None, 256)\n",
            "(None, 256)\n",
            "(None, 256)\n",
            "(None, 256)\n",
            "(None, 128)\n",
            "(None, 128)\n",
            "(None, 128)\n",
            "(None, 128)\n",
            "(None, 5)\n",
            "Model: \"model_7\"\n",
            "__________________________________________________________________________________________________\n",
            " Layer (type)                   Output Shape         Param #     Connected to                     \n",
            "==================================================================================================\n",
            " input_1 (InputLayer)           [(None, 187, 1)]     0           []                               \n",
            "                                                                                                  \n",
            " conv1d (Conv1D)                (None, 45, 96)       1152        ['input_1[0][0]']                \n",
            "                                                                                                  \n",
            " dropout (Dropout)              (None, 45, 96)       0           ['conv1d[0][0]']                 \n",
            "                                                                                                  \n",
            " max_pooling1d (MaxPooling1D)   (None, 22, 96)       0           ['dropout[0][0]']                \n",
            "                                                                                                  \n",
            " batch_normalization (BatchNorm  (None, 22, 96)      384         ['max_pooling1d[0][0]']          \n",
            " alization)                                                                                       \n",
            "                                                                                                  \n",
            " conv1d_1 (Conv1D)              (None, 12, 256)      270592      ['batch_normalization[0][0]']    \n",
            "                                                                                                  \n",
            " dropout_1 (Dropout)            (None, 12, 256)      0           ['conv1d_1[0][0]']               \n",
            "                                                                                                  \n",
            " max_pooling1d_1 (MaxPooling1D)  (None, 12, 256)     0           ['dropout_1[0][0]']              \n",
            "                                                                                                  \n",
            " batch_normalization_1 (BatchNo  (None, 12, 256)     1024        ['max_pooling1d_1[0][0]']        \n",
            " rmalization)                                                                                     \n",
            "                                                                                                  \n",
            " conv1d_2 (Conv1D)              (None, 10, 384)      295296      ['batch_normalization_1[0][0]']  \n",
            "                                                                                                  \n",
            " dropout_2 (Dropout)            (None, 10, 384)      0           ['conv1d_2[0][0]']               \n",
            "                                                                                                  \n",
            " batch_normalization_2 (BatchNo  (None, 10, 384)     1536        ['dropout_2[0][0]']              \n",
            " rmalization)                                                                                     \n",
            "                                                                                                  \n",
            " conv1d_3 (Conv1D)              (None, 4, 384)       442752      ['batch_normalization_2[0][0]']  \n",
            "                                                                                                  \n",
            " dropout_3 (Dropout)            (None, 4, 384)       0           ['conv1d_3[0][0]']               \n",
            "                                                                                                  \n",
            " batch_normalization_3 (BatchNo  (None, 4, 384)      1536        ['dropout_3[0][0]']              \n",
            " rmalization)                                                                                     \n",
            "                                                                                                  \n",
            " conv1d_4 (Conv1D)              (None, 1, 256)       295168      ['batch_normalization_3[0][0]']  \n",
            "                                                                                                  \n",
            " dropout_4 (Dropout)            (None, 1, 256)       0           ['conv1d_4[0][0]']               \n",
            "                                                                                                  \n",
            " max_pooling1d_2 (MaxPooling1D)  (None, 1, 256)      0           ['dropout_4[0][0]']              \n",
            "                                                                                                  \n",
            " conv1d_transpose_24 (Conv1DTra  (None, 4, 384)      393600      ['max_pooling1d_2[0][0]']        \n",
            " nspose)                                                                                          \n",
            "                                                                                                  \n",
            " concatenate_24 (Concatenate)   (None, 4, 768)       0           ['conv1d_transpose_24[0][0]',    \n",
            "                                                                  'conv1d_3[0][0]']               \n",
            "                                                                                                  \n",
            " conv1d_41 (Conv1D)             (None, 1, 384)       885120      ['concatenate_24[0][0]']         \n",
            "                                                                                                  \n",
            " conv1d_transpose_25 (Conv1DTra  (None, 10, 384)     1474944     ['conv1d_41[0][0]']              \n",
            " nspose)                                                                                          \n",
            "                                                                                                  \n",
            " concatenate_25 (Concatenate)   (None, 10, 768)      0           ['conv1d_transpose_25[0][0]',    \n",
            "                                                                  'conv1d_2[0][0]']               \n",
            "                                                                                                  \n",
            " conv1d_42 (Conv1D)             (None, 4, 384)       885120      ['concatenate_25[0][0]']         \n",
            "                                                                                                  \n",
            " conv1d_transpose_26 (Conv1DTra  (None, 12, 256)     196864      ['conv1d_42[0][0]']              \n",
            " nspose)                                                                                          \n",
            "                                                                                                  \n",
            " concatenate_26 (Concatenate)   (None, 12, 512)      0           ['conv1d_transpose_26[0][0]',    \n",
            "                                                                  'conv1d_1[0][0]']               \n",
            "                                                                                                  \n",
            " conv1d_43 (Conv1D)             (None, 5, 256)       393472      ['concatenate_26[0][0]']         \n",
            "                                                                                                  \n",
            " conv1d_transpose_27 (Conv1DTra  (None, 45, 96)      417888      ['conv1d_43[0][0]']              \n",
            " nspose)                                                                                          \n",
            "                                                                                                  \n",
            " concatenate_27 (Concatenate)   (None, 45, 192)      0           ['conv1d_transpose_27[0][0]',    \n",
            "                                                                  'conv1d[0][0]']                 \n",
            "                                                                                                  \n",
            " conv1d_44 (Conv1D)             (None, 22, 96)       55392       ['concatenate_27[0][0]']         \n",
            "                                                                                                  \n",
            " max_pooling1d_19 (MaxPooling1D  (None, 11, 96)      0           ['conv1d_44[0][0]']              \n",
            " )                                                                                                \n",
            "                                                                                                  \n",
            " dropout_35 (Dropout)           (None, 11, 96)       0           ['max_pooling1d_19[0][0]']       \n",
            "                                                                                                  \n",
            " conv1d_45 (Conv1D)             (None, 9, 384)       110976      ['dropout_35[0][0]']             \n",
            "                                                                                                  \n",
            " max_pooling1d_20 (MaxPooling1D  (None, 5, 384)      0           ['conv1d_45[0][0]']              \n",
            " )                                                                                                \n",
            "                                                                                                  \n",
            " batch_normalization_14 (BatchN  (None, 5, 384)      1536        ['max_pooling1d_20[0][0]']       \n",
            " ormalization)                                                                                    \n",
            "                                                                                                  \n",
            " conv1d_46 (Conv1D)             (None, 4, 256)       196864      ['batch_normalization_14[0][0]'] \n",
            "                                                                                                  \n",
            " max_pooling1d_21 (MaxPooling1D  (None, 4, 256)      0           ['conv1d_46[0][0]']              \n",
            " )                                                                                                \n",
            "                                                                                                  \n",
            " lstm_4 (LSTM)                  (None, 128)          197120      ['max_pooling1d_21[0][0]']       \n",
            "                                                                                                  \n",
            " flatten_9 (Flatten)            (None, 128)          0           ['lstm_4[0][0]']                 \n",
            "                                                                                                  \n",
            " dense_28 (Dense)               (None, 256)          33024       ['flatten_9[0][0]']              \n",
            "                                                                                                  \n",
            " activation_21 (Activation)     (None, 256)          0           ['dense_28[0][0]']               \n",
            "                                                                                                  \n",
            " dropout_132 (Dropout)          (None, 256)          0           ['activation_21[0][0]']          \n",
            "                                                                                                  \n",
            " batch_normalization_82 (BatchN  (None, 256)         1024        ['dropout_132[0][0]']            \n",
            " ormalization)                                                                                    \n",
            "                                                                                                  \n",
            " dense_29 (Dense)               (None, 256)          65792       ['batch_normalization_82[0][0]'] \n",
            "                                                                                                  \n",
            " activation_22 (Activation)     (None, 256)          0           ['dense_29[0][0]']               \n",
            "                                                                                                  \n",
            " dropout_133 (Dropout)          (None, 256)          0           ['activation_22[0][0]']          \n",
            "                                                                                                  \n",
            " batch_normalization_83 (BatchN  (None, 256)         1024        ['dropout_133[0][0]']            \n",
            " ormalization)                                                                                    \n",
            "                                                                                                  \n",
            " dense_30 (Dense)               (None, 128)          32896       ['batch_normalization_83[0][0]'] \n",
            "                                                                                                  \n",
            " activation_23 (Activation)     (None, 128)          0           ['dense_30[0][0]']               \n",
            "                                                                                                  \n",
            " dropout_134 (Dropout)          (None, 128)          0           ['activation_23[0][0]']          \n",
            "                                                                                                  \n",
            " batch_normalization_84 (BatchN  (None, 128)         512         ['dropout_134[0][0]']            \n",
            " ormalization)                                                                                    \n",
            "                                                                                                  \n",
            " dense_31 (Dense)               (None, 5)            645         ['batch_normalization_84[0][0]'] \n",
            "                                                                                                  \n",
            "==================================================================================================\n",
            "Total params: 6,653,253\n",
            "Trainable params: 6,648,965\n",
            "Non-trainable params: 4,288\n",
            "__________________________________________________________________________________________________\n"
          ]
        }
      ]
    },
    {
      "cell_type": "code",
      "source": [
        "# i_shape = d9.shape\n",
        "# input = d9\n",
        "# # our previous model\n",
        "# C1 = Conv1D(filters=96, input_shape = i_shape, kernel_size=11,strides=4, activation = 'relu', padding='valid')(input)\n",
        "# M1 = MaxPooling1D(pool_size=1, strides=2, padding='valid')(C1)\n",
        "# B1 = BatchNormalization()(M1)\n",
        "# C2 = Conv1D(filters=256, activation= 'relu', kernel_size=11, padding='valid')(B1)\n",
        "# M2 = MaxPooling1D(pool_size=1, strides=1, padding='valid')(C2)\n",
        "# B2 = BatchNormalization()(M2)\n",
        "# C3 = Conv1D(filters=384, kernel_size=3, strides=1,activation = 'relu', padding='valid')(B2)\n",
        "# B3 = BatchNormalization()(C3)\n",
        "# C4 = Conv1D(filters=384, kernel_size=3, strides=1,activation = 'relu', padding='valid')(B3)\n",
        "# B4 = BatchNormalization()(C4)\n",
        "\n",
        "# C5 = Conv1D(filters=384, kernel_size=3, strides=1,activation = 'relu', padding='valid')(B4)\n",
        "# M5 = MaxPooling1D(pool_size=1, strides=2, padding='valid')(C5)\n",
        "# L1 = LSTM(256)(M5)\n",
        "# B5 = BatchNormalization()(L1)\n",
        "# # Passing it to a dense layer\n",
        "# f1 = Flatten()(B5)\n",
        "# # 1st Dense Layer\n",
        "# D1 = Dense(256, input_shape=(1800,))(f1)\n",
        "# A1 = Activation('relu')(D1)\n",
        "# # Add Dropout to prevent overfitting\n",
        "# D_1 = Dropout(0.5)(A1)\n",
        "# # Batch Normalisation\n",
        "# B_1 = BatchNormalization()(D_1)\n",
        "\n",
        "# # 2nd Dense Layer\n",
        "# D2 = Dense(256)(B_1)\n",
        "# A2 = Activation('relu')(D2)\n",
        "# # Add Dropout\n",
        "# D_2 = Dropout(0.5)(A2)\n",
        "# # Batch Normalisation\n",
        "# B_2 = BatchNormalization()(D_2)\n",
        "\n",
        "# # 3rd Dense Layer\n",
        "# D3 = Dense(128)(B_2)\n",
        "# A3 = Activation('relu')(D3)\n",
        "# # Add Dropout\n",
        "# D_3 = Dropout(0.5)(A3)\n",
        "# # Batch Normalisation\n",
        "# B_3 = BatchNormalization()(D_3)\n",
        "\n",
        "# # Output Layer\n",
        "# output = Dense(5, activation = 'softmax')(B_3)\n",
        "# # model\n",
        "# model = tf.keras.Model(inputs = [input], outputs = [output])\n",
        "\n",
        "\n",
        "# for layer in model.layers:\n",
        "#     print(layer.output_shape)\n",
        "\n",
        "# model.summary()"
      ],
      "metadata": {
        "id": "jAlWaiG-_SLj"
      },
      "execution_count": 76,
      "outputs": []
    },
    {
      "cell_type": "code",
      "source": [
        "model.compile(loss='categorical_crossentropy', optimizer='adam', metrics=['accuracy'])"
      ],
      "metadata": {
        "id": "MRuyYdYW4ty2"
      },
      "execution_count": 77,
      "outputs": []
    },
    {
      "cell_type": "code",
      "source": [
        "print(y_train)"
      ],
      "metadata": {
        "colab": {
          "base_uri": "https://localhost:8080/"
        },
        "id": "FdDEfQ4z2cj0",
        "outputId": "87bbdbc7-7cb2-487c-f0c7-757be0f3063f"
      },
      "execution_count": 78,
      "outputs": [
        {
          "output_type": "stream",
          "name": "stdout",
          "text": [
            "[[1. 0. 0. 0. 0.]\n",
            " [1. 0. 0. 0. 0.]\n",
            " [1. 0. 0. 0. 0.]\n",
            " ...\n",
            " [0. 0. 0. 0. 1.]\n",
            " [0. 0. 0. 0. 1.]\n",
            " [0. 0. 0. 0. 1.]]\n"
          ]
        }
      ]
    },
    {
      "cell_type": "code",
      "source": [
        "print(y_test)"
      ],
      "metadata": {
        "colab": {
          "base_uri": "https://localhost:8080/"
        },
        "id": "hvLfL94zYuJE",
        "outputId": "d46d3590-f939-4afc-951b-8662f3ad4f80"
      },
      "execution_count": 79,
      "outputs": [
        {
          "output_type": "stream",
          "name": "stdout",
          "text": [
            "[[1. 0. 0. 0. 0.]\n",
            " [1. 0. 0. 0. 0.]\n",
            " [1. 0. 0. 0. 0.]\n",
            " ...\n",
            " [0. 0. 0. 0. 1.]\n",
            " [0. 0. 0. 0. 1.]\n",
            " [0. 0. 0. 0. 1.]]\n"
          ]
        }
      ]
    },
    {
      "cell_type": "code",
      "source": [
        "history = model.fit(X_train, y_train, epochs=50, batch_size=256, \n",
        "          validation_data=(X_test, y_test))"
      ],
      "metadata": {
        "colab": {
          "base_uri": "https://localhost:8080/"
        },
        "id": "8fyUfGKZ4eJG",
        "outputId": "649e1562-df10-451b-f7cb-8f6c0bbf42f2"
      },
      "execution_count": 97,
      "outputs": [
        {
          "output_type": "stream",
          "name": "stdout",
          "text": [
            "Epoch 1/50\n",
            "391/391 [==============================] - 17s 44ms/step - loss: 0.0033 - accuracy: 0.9991 - val_loss: 0.1882 - val_accuracy: 0.9770\n",
            "Epoch 2/50\n",
            "391/391 [==============================] - 18s 45ms/step - loss: 0.0034 - accuracy: 0.9991 - val_loss: 0.1762 - val_accuracy: 0.9771\n",
            "Epoch 3/50\n",
            "391/391 [==============================] - 17s 44ms/step - loss: 0.0046 - accuracy: 0.9988 - val_loss: 0.1767 - val_accuracy: 0.9753\n",
            "Epoch 4/50\n",
            "391/391 [==============================] - 17s 44ms/step - loss: 0.0038 - accuracy: 0.9991 - val_loss: 0.1954 - val_accuracy: 0.9765\n",
            "Epoch 5/50\n",
            "391/391 [==============================] - 17s 44ms/step - loss: 0.0039 - accuracy: 0.9990 - val_loss: 0.2051 - val_accuracy: 0.9741\n",
            "Epoch 6/50\n",
            "391/391 [==============================] - 17s 44ms/step - loss: 0.0041 - accuracy: 0.9991 - val_loss: 0.1876 - val_accuracy: 0.9745\n",
            "Epoch 7/50\n",
            "391/391 [==============================] - 17s 44ms/step - loss: 0.0039 - accuracy: 0.9991 - val_loss: 0.2125 - val_accuracy: 0.9723\n",
            "Epoch 8/50\n",
            "391/391 [==============================] - 18s 45ms/step - loss: 0.0029 - accuracy: 0.9993 - val_loss: 0.2050 - val_accuracy: 0.9746\n",
            "Epoch 9/50\n",
            "391/391 [==============================] - 17s 44ms/step - loss: 0.0031 - accuracy: 0.9991 - val_loss: 0.2000 - val_accuracy: 0.9749\n",
            "Epoch 10/50\n",
            "391/391 [==============================] - 17s 44ms/step - loss: 0.0033 - accuracy: 0.9991 - val_loss: 0.1642 - val_accuracy: 0.9757\n",
            "Epoch 11/50\n",
            "391/391 [==============================] - 17s 44ms/step - loss: 0.0044 - accuracy: 0.9988 - val_loss: 0.1685 - val_accuracy: 0.9780\n",
            "Epoch 12/50\n",
            "391/391 [==============================] - 17s 44ms/step - loss: 0.0037 - accuracy: 0.9990 - val_loss: 0.1729 - val_accuracy: 0.9768\n",
            "Epoch 13/50\n",
            "391/391 [==============================] - 17s 44ms/step - loss: 0.0047 - accuracy: 0.9988 - val_loss: 0.1545 - val_accuracy: 0.9776\n",
            "Epoch 14/50\n",
            "391/391 [==============================] - 17s 44ms/step - loss: 0.0028 - accuracy: 0.9993 - val_loss: 0.1841 - val_accuracy: 0.9770\n",
            "Epoch 15/50\n",
            "391/391 [==============================] - 17s 44ms/step - loss: 0.0031 - accuracy: 0.9992 - val_loss: 0.1764 - val_accuracy: 0.9787\n",
            "Epoch 16/50\n",
            "391/391 [==============================] - 17s 44ms/step - loss: 0.0042 - accuracy: 0.9989 - val_loss: 0.1827 - val_accuracy: 0.9773\n",
            "Epoch 17/50\n",
            "391/391 [==============================] - 17s 44ms/step - loss: 0.0035 - accuracy: 0.9991 - val_loss: 0.1924 - val_accuracy: 0.9735\n",
            "Epoch 18/50\n",
            "391/391 [==============================] - 18s 45ms/step - loss: 0.0031 - accuracy: 0.9991 - val_loss: 0.2121 - val_accuracy: 0.9738\n",
            "Epoch 19/50\n",
            "391/391 [==============================] - 17s 44ms/step - loss: 0.0036 - accuracy: 0.9992 - val_loss: 0.1888 - val_accuracy: 0.9755\n",
            "Epoch 20/50\n",
            "391/391 [==============================] - 17s 44ms/step - loss: 0.0046 - accuracy: 0.9989 - val_loss: 0.1648 - val_accuracy: 0.9761\n",
            "Epoch 21/50\n",
            "391/391 [==============================] - 17s 44ms/step - loss: 0.0036 - accuracy: 0.9991 - val_loss: 0.1734 - val_accuracy: 0.9769\n",
            "Epoch 22/50\n",
            "391/391 [==============================] - 17s 44ms/step - loss: 0.0029 - accuracy: 0.9994 - val_loss: 0.1800 - val_accuracy: 0.9762\n",
            "Epoch 23/50\n",
            "391/391 [==============================] - 17s 44ms/step - loss: 0.0038 - accuracy: 0.9990 - val_loss: 0.2035 - val_accuracy: 0.9762\n",
            "Epoch 24/50\n",
            "391/391 [==============================] - 17s 44ms/step - loss: 0.0034 - accuracy: 0.9991 - val_loss: 0.2002 - val_accuracy: 0.9741\n",
            "Epoch 25/50\n",
            "391/391 [==============================] - 17s 44ms/step - loss: 0.0034 - accuracy: 0.9991 - val_loss: 0.1822 - val_accuracy: 0.9735\n",
            "Epoch 26/50\n",
            "391/391 [==============================] - 17s 44ms/step - loss: 0.0023 - accuracy: 0.9994 - val_loss: 0.1879 - val_accuracy: 0.9766\n",
            "Epoch 27/50\n",
            "391/391 [==============================] - 17s 44ms/step - loss: 0.0032 - accuracy: 0.9993 - val_loss: 0.1805 - val_accuracy: 0.9758\n",
            "Epoch 28/50\n",
            "391/391 [==============================] - 17s 44ms/step - loss: 0.0041 - accuracy: 0.9990 - val_loss: 0.1889 - val_accuracy: 0.9736\n",
            "Epoch 29/50\n",
            "391/391 [==============================] - 17s 44ms/step - loss: 0.0032 - accuracy: 0.9992 - val_loss: 0.1850 - val_accuracy: 0.9768\n",
            "Epoch 30/50\n",
            "391/391 [==============================] - 18s 47ms/step - loss: 0.0047 - accuracy: 0.9989 - val_loss: 0.1610 - val_accuracy: 0.9737\n",
            "Epoch 31/50\n",
            "391/391 [==============================] - 17s 44ms/step - loss: 0.0033 - accuracy: 0.9992 - val_loss: 0.1818 - val_accuracy: 0.9762\n",
            "Epoch 32/50\n",
            "391/391 [==============================] - 17s 44ms/step - loss: 0.0041 - accuracy: 0.9990 - val_loss: 0.1849 - val_accuracy: 0.9752\n",
            "Epoch 33/50\n",
            "391/391 [==============================] - 17s 44ms/step - loss: 0.0036 - accuracy: 0.9992 - val_loss: 0.1811 - val_accuracy: 0.9764\n",
            "Epoch 34/50\n",
            "391/391 [==============================] - 17s 44ms/step - loss: 0.0040 - accuracy: 0.9991 - val_loss: 0.1835 - val_accuracy: 0.9743\n",
            "Epoch 35/50\n",
            "391/391 [==============================] - 17s 44ms/step - loss: 0.0043 - accuracy: 0.9991 - val_loss: 0.1757 - val_accuracy: 0.9779\n",
            "Epoch 36/50\n",
            "391/391 [==============================] - 17s 44ms/step - loss: 0.0027 - accuracy: 0.9992 - val_loss: 0.1715 - val_accuracy: 0.9767\n",
            "Epoch 37/50\n",
            "391/391 [==============================] - 17s 44ms/step - loss: 0.0033 - accuracy: 0.9991 - val_loss: 0.2333 - val_accuracy: 0.9694\n",
            "Epoch 38/50\n",
            "391/391 [==============================] - 17s 44ms/step - loss: 0.0030 - accuracy: 0.9992 - val_loss: 0.2036 - val_accuracy: 0.9721\n",
            "Epoch 39/50\n",
            "391/391 [==============================] - 17s 44ms/step - loss: 0.0042 - accuracy: 0.9989 - val_loss: 0.1909 - val_accuracy: 0.9726\n",
            "Epoch 40/50\n",
            "391/391 [==============================] - 17s 44ms/step - loss: 0.0030 - accuracy: 0.9993 - val_loss: 0.1925 - val_accuracy: 0.9749\n",
            "Epoch 41/50\n",
            "391/391 [==============================] - 17s 44ms/step - loss: 0.0035 - accuracy: 0.9991 - val_loss: 0.1880 - val_accuracy: 0.9748\n",
            "Epoch 42/50\n",
            "391/391 [==============================] - 17s 44ms/step - loss: 0.0022 - accuracy: 0.9994 - val_loss: 0.2248 - val_accuracy: 0.9747\n",
            "Epoch 43/50\n",
            "391/391 [==============================] - 17s 44ms/step - loss: 0.0047 - accuracy: 0.9988 - val_loss: 0.2311 - val_accuracy: 0.9651\n",
            "Epoch 44/50\n",
            "391/391 [==============================] - 17s 44ms/step - loss: 0.0029 - accuracy: 0.9990 - val_loss: 0.1763 - val_accuracy: 0.9783\n",
            "Epoch 45/50\n",
            "391/391 [==============================] - 17s 44ms/step - loss: 0.0037 - accuracy: 0.9990 - val_loss: 0.1672 - val_accuracy: 0.9776\n",
            "Epoch 46/50\n",
            "391/391 [==============================] - 17s 44ms/step - loss: 0.0054 - accuracy: 0.9990 - val_loss: 0.1846 - val_accuracy: 0.9762\n",
            "Epoch 47/50\n",
            "391/391 [==============================] - 17s 44ms/step - loss: 0.0046 - accuracy: 0.9989 - val_loss: 0.1649 - val_accuracy: 0.9783\n",
            "Epoch 48/50\n",
            "391/391 [==============================] - 17s 44ms/step - loss: 0.0037 - accuracy: 0.9991 - val_loss: 0.1723 - val_accuracy: 0.9768\n",
            "Epoch 49/50\n",
            "391/391 [==============================] - 17s 44ms/step - loss: 0.0029 - accuracy: 0.9993 - val_loss: 0.1882 - val_accuracy: 0.9785\n",
            "Epoch 50/50\n",
            "391/391 [==============================] - 17s 44ms/step - loss: 0.0047 - accuracy: 0.9991 - val_loss: 0.1766 - val_accuracy: 0.9771\n"
          ]
        }
      ]
    },
    {
      "cell_type": "code",
      "source": [
        "#  plotting accuracy of the model\n",
        "import matplotlib.pyplot as plt\n",
        "plt.plot(history.history['accuracy'])\n",
        "plt.plot(history.history['val_accuracy'])\n",
        "plt.title('model accuracy')\n",
        "plt.ylabel('accuracy')\n",
        "plt.xlabel('epoch')\n",
        "plt.legend(['train', 'val'], loc='upper left')\n",
        "plt.show()"
      ],
      "metadata": {
        "colab": {
          "base_uri": "https://localhost:8080/",
          "height": 295
        },
        "id": "jDxFeuoIy0Cp",
        "outputId": "2d36fe47-257a-4e81-9351-2e3468048090"
      },
      "execution_count": 98,
      "outputs": [
        {
          "output_type": "display_data",
          "data": {
            "text/plain": [
              "<Figure size 432x288 with 1 Axes>"
            ],
            "image/png": "[encoded data removed]"
          },
          "metadata": {
            "needs_background": "light"
          }
        }
      ]
    },
    {
      "cell_type": "code",
      "source": [
        "# plottingloss of the model\n",
        "plt.plot(history.history['loss'])\n",
        "plt.plot(history.history['val_loss'])\n",
        "plt.title('model loss')\n",
        "plt.ylabel('loss')\n",
        "plt.xlabel('epoch')\n",
        "plt.legend(['train', 'val'], loc='upper left')\n",
        "plt.show()"
      ],
      "metadata": {
        "colab": {
          "base_uri": "https://localhost:8080/",
          "height": 295
        },
        "id": "xFzThzd5y6mw",
        "outputId": "76beef36-7d80-40fd-83e3-a03d90114fba"
      },
      "execution_count": 99,
      "outputs": [
        {
          "output_type": "display_data",
          "data": {
            "text/plain": [
              "<Figure size 432x288 with 1 Axes>"
            ],
            "image/png": "[encoded data removed]"
          },
          "metadata": {
            "needs_background": "light"
          }
        }
      ]
    },
    {
      "cell_type": "code",
      "source": [
        "! pip install scikit-learn"
      ],
      "metadata": {
        "colab": {
          "base_uri": "https://localhost:8080/"
        },
        "id": "ojmGBA4NQFYB",
        "outputId": "db2ae7de-a016-4323-bdc1-00dd76f8a787"
      },
      "execution_count": 100,
      "outputs": [
        {
          "output_type": "stream",
          "name": "stdout",
          "text": [
            "Looking in indexes: https://pypi.org/simple, https://us-python.pkg.dev/colab-wheels/public/simple/\n",
            "Requirement already satisfied: scikit-learn in /usr/local/lib/python3.8/dist-packages (1.0.2)\n",
            "Requirement already satisfied: threadpoolctl>=2.0.0 in /usr/local/lib/python3.8/dist-packages (from scikit-learn) (3.1.0)\n",
            "Requirement already satisfied: scipy>=1.1.0 in /usr/local/lib/python3.8/dist-packages (from scikit-learn) (1.7.3)\n",
            "Requirement already satisfied: joblib>=0.11 in /usr/local/lib/python3.8/dist-packages (from scikit-learn) (1.2.0)\n",
            "Requirement already satisfied: numpy>=1.14.6 in /usr/local/lib/python3.8/dist-packages (from scikit-learn) (1.21.6)\n"
          ]
        }
      ]
    },
    {
      "cell_type": "code",
      "source": [
        "y_pred = model.predict(X_test)"
      ],
      "metadata": {
        "id": "ONotYxuiWn_l",
        "colab": {
          "base_uri": "https://localhost:8080/"
        },
        "outputId": "362a0867-c45e-4bb4-bcab-5fabe70bb384"
      },
      "execution_count": 101,
      "outputs": [
        {
          "output_type": "stream",
          "name": "stdout",
          "text": [
            "685/685 [==============================] - 4s 7ms/step\n"
          ]
        }
      ]
    },
    {
      "cell_type": "code",
      "source": [
        "from sklearn.metrics import confusion_matrix\n",
        "y_pred_1 = np.argmax(y_pred, axis=1)\n",
        "y_test_1 = np.argmax(y_test, axis=1)\n",
        "cm = confusion_matrix(y_test_1, y_pred_1)"
      ],
      "metadata": {
        "id": "itAntTkG5ExM"
      },
      "execution_count": 102,
      "outputs": []
    },
    {
      "cell_type": "code",
      "source": [
        "from sklearn.preprocessing import normalize\n",
        "normed_confusion_matrix = normalize(cm, axis = 1, norm = 'l1')\n",
        "cm_df = pd.DataFrame(normed_confusion_matrix,\n",
        "                     index = ['NORMAL','FUSION','SUPERVENTRICULAR', 'UNKNOWN', 'VENTRICULAR'], \n",
        "                     columns = ['NORMAL','FUSION','SUPERVENTRICULAR', 'UNKNOWN', 'VENTRICULAR'])\n",
        "sns.heatmap(cm_df, annot=True)"
      ],
      "metadata": {
        "colab": {
          "base_uri": "https://localhost:8080/",
          "height": 376
        },
        "id": "XSGhAmwg7Z87",
        "outputId": "c3d1a61c-3299-418a-ffc6-d0a374d5cda2"
      },
      "execution_count": 103,
      "outputs": [
        {
          "output_type": "execute_result",
          "data": {
            "text/plain": [
              "<matplotlib.axes._subplots.AxesSubplot at 0x7f184c0dfbb0>"
            ]
          },
          "metadata": {},
          "execution_count": 103
        },
        {
          "output_type": "display_data",
          "data": {
            "text/plain": [
              "<Figure size 432x288 with 2 Axes>"
            ],
            "image/png": "[encoded data removed]"
          },
          "metadata": {
            "needs_background": "light"
          }
        }
      ]
    },
    {
      "cell_type": "code",
      "source": [
        "from sklearn.metrics import roc_curve\n",
        "from sklearn.metrics import auc\n",
        "y_pred2 = []\n",
        "y_test2 = []\n",
        "y_pred2 = np.concatenate(y_pred, axis=0 )\n",
        "y_true2 = np.concatenate(y_test, axis=0 )\n",
        "\n",
        "# Compute fpr, tpr, thresholds and roc auc\n",
        "fpr, tpr, thresholds = roc_curve(y_true2, y_pred2)\n",
        "roc_auc = auc(fpr, tpr)\n",
        "\n",
        "# Plot ROC curve\n",
        "plt.plot(fpr, tpr, label='ROC curve (area = %0.3f)' % roc_auc)\n",
        "plt.plot([0, 1], [0, 1], 'k--')  # random predictions curve\n",
        "plt.xlim([0.0, 1.0])\n",
        "plt.ylim([0.0, 1.0])\n",
        "plt.xlabel('False Positive Rate or (1 - Specifity)')\n",
        "plt.ylabel('True Positive Rate or (Sensitivity)')\n",
        "plt.title('Receiver Operating Characteristic')\n",
        "plt.legend(loc=\"lower right\")"
      ],
      "metadata": {
        "colab": {
          "base_uri": "https://localhost:8080/",
          "height": 313
        },
        "id": "K-dRqWGrdEe9",
        "outputId": "c51d6081-f19e-4960-b980-8a2fa2008611"
      },
      "execution_count": 104,
      "outputs": [
        {
          "output_type": "execute_result",
          "data": {
            "text/plain": [
              "<matplotlib.legend.Legend at 0x7f184c0d65b0>"
            ]
          },
          "metadata": {},
          "execution_count": 104
        },
        {
          "output_type": "display_data",
          "data": {
            "text/plain": [
              "<Figure size 432x288 with 1 Axes>"
            ],
            "image/png": "[encoded data removed]"
          },
          "metadata": {
            "needs_background": "light"
          }
        }
      ]
    }
  ]
}